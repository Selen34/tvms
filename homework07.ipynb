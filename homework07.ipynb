{
 "cells": [
  {
   "cell_type": "markdown",
   "metadata": {},
   "source": [
    "### Задача 1"
   ]
  },
  {
   "cell_type": "markdown",
   "metadata": {},
   "source": [
    "Даны значения величины заработной платы заемщиков банка (zp) и значения их поведенческого кредитного скоринга (ks): zp = [35, 45, 190, 200, 40, 70, 54, 150, 120, 110], ks = [401, 574, 874, 919, 459, 739, 653, 902, 746, 832]. Используя математические операции, посчитать коэффициенты линейной регрессии, приняв за X заработную плату (то есть, zp - признак), а за y - значения скорингового балла (то есть, ks - целевая переменная). Произвести расчет как с использованием intercept, так и без."
   ]
  },
  {
   "cell_type": "code",
   "execution_count": 1,
   "metadata": {},
   "outputs": [],
   "source": [
    "zp = [35, 45, 190, 200, 40, 70, 54, 150, 120, 110]\n",
    "ks = [401, 574, 874, 919, 459, 739, 653, 902, 746, 832]"
   ]
  },
  {
   "cell_type": "code",
   "execution_count": 2,
   "metadata": {},
   "outputs": [],
   "source": [
    "import numpy as np\n",
    "import matplotlib.pyplot as plt\n",
    "%matplotlib inline"
   ]
  },
  {
   "cell_type": "code",
   "execution_count": 3,
   "metadata": {},
   "outputs": [],
   "source": [
    "x = np.array(zp)\n",
    "y = np.array(ks)"
   ]
  },
  {
   "cell_type": "code",
   "execution_count": 4,
   "metadata": {},
   "outputs": [],
   "source": [
    "b = (np.mean(x*y) - np.mean(x)*np.mean(y))/(np.mean(x**2)-np.mean(x)**2)\n",
    "b"
   ]
  },
  {
   "cell_type": "code",
   "execution_count": 5,
   "metadata": {},
   "outputs": [],
   "source": [
    "a = np.mean(y)-b*np.mean(x)\n",
    "a"
   ]
  },
  {
   "cell_type": "code",
   "execution_count": 6,
   "metadata": {},
   "outputs": [],
   "source": [
    "y_hat = a + b*x"
   ]
  },
  {
   "cell_type": "code",
   "execution_count": 7,
   "metadata": {},
   "outputs": [],
   "source": [
    "# кажется b должен рассчитываться по-другому и быть в районе 6. но что-то пошло не так... :(\n",
    "y_bx = b*x"
   ]
  },
  {
   "cell_type": "code",
   "execution_count": 8,
   "metadata": {},
   "outputs": [
    {
     "data": {
      "image/png": "[encoded data removed]",
      "text/plain": [
       "<Figure size 432x288 with 1 Axes>"
      ]
     },
     "metadata": {
      "needs_background": "light"
     },
     "output_type": "display_data"
    }
   ],
   "source": [
    "plt.scatter(x, y)\n",
    "plt.xlim(0, 220)\n",
    "plt.plot(x, y_hat)\n",
    "plt.plot(x, y_bx)\n",
    "plt.plot(x, x*6)\n",
    "plt.show()"
   ]
  },
  {
   "cell_type": "code",
   "execution_count": 9,
   "metadata": {},
   "outputs": [
    {
     "data": {
      "text/plain": [
       "6470.414201176658"
      ]
     },
     "execution_count": 9,
     "metadata": {},
     "output_type": "execute_result"
    }
   ],
   "source": [
    "mse = ((y - y_hat)**2).sum()/y.size\n",
    "mse"
   ]
  },
  {
   "cell_type": "markdown",
   "metadata": {},
   "source": [
    "### Задача 2"
   ]
  },
  {
   "cell_type": "markdown",
   "metadata": {},
   "source": [
    "Посчитать коэффициент линейной регрессии при заработной плате (zp), используя градиентный спуск (без intercept)."
   ]
  },
  {
   "cell_type": "code",
   "execution_count": 10,
   "metadata": {},
   "outputs": [],
   "source": [
    "def mse(b1, y, x, n=10):\n",
    "    return np.sum(b1*x - y)**2/n\n",
    "\n",
    "def mse_p(b1, y, x, n=10):\n",
    "    return (2/n)*(np.sum((b1*x - y)*x))"
   ]
  },
  {
   "cell_type": "code",
   "execution_count": 11,
   "metadata": {},
   "outputs": [
    {
     "name": "stdout",
     "output_type": "stream",
     "text": [
      "Iter: 0 b1=1.23197488 mse=3421989.6468174844\n",
      "Iter: 100 b1=5.604869386365851 mse=200410.0150326528\n",
      "Iter: 200 b1=5.872388092043406 mse=130964.78688224145\n",
      "Iter: 300 b1=5.888753970018103 mse=127194.06768724191\n",
      "Iter: 400 b1=5.889755178368017 mse=126965.17583883367\n",
      "Iter: 500 b1=5.889816428865025 mse=126951.1797107649\n",
      "Iter: 600 b1=5.889820175960607 mse=126950.32350063794\n",
      "Iter: 700 b1=5.8898204051950795 mse=126950.27112072892\n",
      "Iter: 800 b1=5.889820419218856 mse=126950.26791630655\n",
      "Iter: 900 b1=5.889820420076783 mse=126950.26772027086\n",
      "Iter: 1000 b1=5.889820420129267 mse=126950.26770827845\n",
      "Iter: 1100 b1=5.889820420132479 mse=126950.26770754442\n",
      "Iter: 1200 b1=5.889820420132673 mse=126950.26770750014\n"
     ]
    }
   ],
   "source": [
    "alpha = 1e-6\n",
    "b1 = 1.1\n",
    "n = x.size\n",
    "count = 1300\n",
    "for i in range(count):\n",
    "    b1 -=alpha*mse_p(b1, y, x)\n",
    "    if i%100 == 0:\n",
    "        print(f'Iter: {i} b1={b1} mse={mse(b1,y,x)}')"
   ]
  },
  {
   "cell_type": "markdown",
   "metadata": {},
   "source": [
    "### Задача 3"
   ]
  },
  {
   "cell_type": "markdown",
   "metadata": {},
   "source": [
    "В каких случаях для вычисления доверительных интервалов и проверки статистических гипотез используется таблица значений функции Лапласа, а в каких - таблица критических точек распределения Стьюдента?"
   ]
  },
  {
   "cell_type": "markdown",
   "metadata": {},
   "source": [
    "**Распределение стьюдента используется когда небольшое количество данных (меньше 100), когда достаточно большое количество данных распределение Стьюдента приближается к стандартному**"
   ]
  },
  {
   "cell_type": "markdown",
   "metadata": {},
   "source": [
    "### Задача 4"
   ]
  },
  {
   "cell_type": "markdown",
   "metadata": {},
   "source": [
    "*4. Произвести вычисления как в пункте 2, но с вычислением intercept. Учесть, что изменение коэффициентов должно производиться на каждом шаге одновременно (то есть изменение одного коэффициента не должно влиять на изменение другого во время одной итерации)."
   ]
  },
  {
   "cell_type": "code",
   "execution_count": 12,
   "metadata": {},
   "outputs": [],
   "source": [
    "def mse_p0(b0, b1, y, x, n=10):\n",
    "    return (2/n)*(np.sum((b0 + b1*x - y)))\n",
    "\n",
    "def mse_p1(b0, b1, y, x, n=10):\n",
    "    return (2/n)*(np.sum((b0 + b1*x - y)*x))"
   ]
  },
  {
   "cell_type": "code",
   "execution_count": 14,
   "metadata": {},
   "outputs": [
    {
     "name": "stdout",
     "output_type": "stream",
     "text": [
      "Iter: 0 b1=0.90119492 b1=1.231792117670224 mse=3422206.4675768376\n",
      "Iter: 100 b1=0.9558210427846052 b1=5.59832616737201 mse=202292.9513681165\n",
      "Iter: 200 b1=0.9802711135112138 b1=5.865260521163687 mse=132624.20558702468\n",
      "Iter: 300 b1=1.002874321463162 b1=5.881432851448954 mse=128874.05427610718\n",
      "Iter: 400 b1=1.0253634907700953 b1=5.882266717795455 mse=128682.14967954632\n",
      "Iter: 500 b1=1.0478446139077957 b1=5.882162377401726 mse=128706.154575498\n",
      "Iter: 600 b1=1.0703241742193168 b1=5.882000657181084 mse=128743.36488819688\n",
      "Iter: 700 b1=1.0928025683284897 b1=5.881835435063288 mse=128781.38650885197\n",
      "Iter: 800 b1=1.1152798205500916 b1=5.881670006623144 mse=128819.46123341825\n",
      "Iter: 900 b1=1.1377559324257027 b1=5.881504573442136 mse=128857.54267701507\n",
      "Iter: 1000 b1=1.160230904103923 b1=5.881339147850087 mse=128895.62800126639\n",
      "Iter: 1100 b1=1.182704735648145 b1=5.881173730600784 mse=128933.71703181812\n",
      "Iter: 1200 b1=1.2051774271165463 b1=5.881008321739933 mse=128971.80975729197\n"
     ]
    }
   ],
   "source": [
    "alpha = 1e-6\n",
    "b1 = 1.1\n",
    "b0 = 0.9\n",
    "n = x.size\n",
    "count = 1300\n",
    "for i in range(count):\n",
    "    b0 -=alpha*mse_p0(b0, b1, y, x)\n",
    "    b1 -=alpha*mse_p1(b0, b1, y, x)\n",
    "    if i%100 == 0:\n",
    "        print(f'Iter: {i} b1={b0} b1={b1} mse={mse(b1,y,x)}')"
   ]
  },
  {
   "cell_type": "code",
   "execution_count": 15,
   "metadata": {},
   "outputs": [
    {
     "data": {
      "image/png": "[encoded data removed]",
      "text/plain": [
       "<Figure size 432x288 with 1 Axes>"
      ]
     },
     "metadata": {
      "needs_background": "light"
     },
     "output_type": "display_data"
    }
   ],
   "source": [
    "plt.scatter(x, y)\n",
    "plt.xlim(0, 220)\n",
    "plt.plot(x, b0 + b1*x)\n",
    "plt.show()"
   ]
  },
  {
   "cell_type": "code",
   "execution_count": null,
   "metadata": {},
   "outputs": [],
   "source": []
  }
 ],
 "metadata": {
  "kernelspec": {
   "display_name": "Python 3",
   "language": "python",
   "name": "python3"
  },
  "language_info": {
   "codemirror_mode": {
    "name": "ipython",
    "version": 3
   },
   "file_extension": ".py",
   "mimetype": "text/x-python",
   "name": "python",
   "nbconvert_exporter": "python",
   "pygments_lexer": "ipython3",
   "version": "3.7.3"
  }
 },
 "nbformat": 4,
 "nbformat_minor": 2
}
