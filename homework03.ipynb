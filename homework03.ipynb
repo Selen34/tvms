{
 "cells": [
  {
   "cell_type": "code",
   "execution_count": 1,
   "metadata": {},
   "outputs": [],
   "source": [
    "import numpy as np\n",
    "from math import factorial\n",
    "def C(n, k):\n",
    "    return factorial(n)/(factorial(k)*factorial(n-k))"
   ]
  },
  {
   "cell_type": "markdown",
   "metadata": {},
   "source": [
    "### Задача 1"
   ]
  },
  {
   "cell_type": "markdown",
   "metadata": {},
   "source": [
    "Даны значения зарплат из выборки выпускников: 100, 80, 75, 77, 89, 33, 45, 25, 65, 17, 30, 24, 57, 55, 70, 75, 65, 84, 90, 150. Посчитать (желательно без использования статистических методов наподобие std, var, mean) среднее арифметическое, среднее квадратичное отклонение, смещенную и несмещенную оценки дисперсий для данной выборки."
   ]
  },
  {
   "cell_type": "code",
   "execution_count": 2,
   "metadata": {},
   "outputs": [],
   "source": [
    "a = np.array([100, 80, 75, 77, 89, 33, 45, 25, 65, 17, 30, 24, 57, 55, 70, 75, 65, 84, 90, 150])"
   ]
  },
  {
   "cell_type": "code",
   "execution_count": 3,
   "metadata": {},
   "outputs": [
    {
     "name": "stdout",
     "output_type": "stream",
     "text": [
      "MEAN: 65.3 \tEQ\t 65.3\n"
     ]
    }
   ],
   "source": [
    "mean = 0\n",
    "for i in range(a.size):\n",
    "    mean += a[i]\n",
    "mean = mean/a.size\n",
    "print('MEAN:' ,mean, '\\tEQ\\t', a.mean())"
   ]
  },
  {
   "cell_type": "code",
   "execution_count": 4,
   "metadata": {},
   "outputs": [
    {
     "name": "stdout",
     "output_type": "stream",
     "text": [
      "BIASED VARIANCE:\t 950.11 \tEQ\t 950.11\n",
      "UNBIASED VARIANCE:\t 1000.1157894736842 \tEQ\t 1000.1157894736842\n"
     ]
    }
   ],
   "source": [
    "variance = 0\n",
    "for i in range(a.size):\n",
    "    variance += (a[i]-mean)**2\n",
    "print('BIASED VARIANCE:\\t', variance/a.size, '\\tEQ\\t', a.var(ddof=0))\n",
    "print('UNBIASED VARIANCE:\\t', variance/(a.size - 1), '\\tEQ\\t', a.var(ddof=1))"
   ]
  },
  {
   "cell_type": "code",
   "execution_count": 5,
   "metadata": {},
   "outputs": [],
   "source": [
    "variance = variance/a.size"
   ]
  },
  {
   "cell_type": "code",
   "execution_count": 6,
   "metadata": {},
   "outputs": [
    {
     "name": "stdout",
     "output_type": "stream",
     "text": [
      "STD: 30.823854398825596 \tEQ\t 30.823854398825596\n"
     ]
    }
   ],
   "source": [
    "std = np.sqrt(variance)\n",
    "print('STD:', std, '\\tEQ\\t', a.std(ddof=0))"
   ]
  },
  {
   "cell_type": "markdown",
   "metadata": {},
   "source": [
    "### Задача 2"
   ]
  },
  {
   "cell_type": "markdown",
   "metadata": {},
   "source": [
    "В первом ящике находится 8 мячей, из которых 5 - белые. Во втором ящике - 12 мячей, из которых 5 белых. Из первого ящика вытаскивают случайным образом два мяча, из второго - 4. Какова вероятность того, что 3 мяча белые?"
   ]
  },
  {
   "cell_type": "markdown",
   "metadata": {},
   "source": [
    "найдем 3 варианта события и сложим их:\n",
    "\n",
    "* {2 белых} И {1 белый И 3 черных}\n",
    "* {1 белый И 1 черный} И {2 белых И 2 черных}\n",
    "* {2 черных} И {3 белых И 1 черных}"
   ]
  },
  {
   "cell_type": "code",
   "execution_count": 7,
   "metadata": {},
   "outputs": [
    {
     "name": "stdout",
     "output_type": "stream",
     "text": [
      "0.12626262626262627\n",
      "0.22727272727272724\n",
      "0.015151515151515152\n",
      "0.3686868686868686\n"
     ]
    }
   ],
   "source": [
    "# [5Б + 3Ч] [5Б + 7Ч]  \n",
    "# способ 1\n",
    "P1 = C(5,2)/C(8,2)*C(5,1)*C(7,3)/C(12,4)\n",
    "P2 = C(5,1)*C(3,1)/C(8,2)*C(5,2)*C(7,2)/C(12,4)\n",
    "P3 = C(3,2)/C(8,2)*C(5,3)*C(7,1)/C(12,4)\n",
    "P = P1 + P2 + P3\n",
    "print(P1)\n",
    "print(P2)\n",
    "print(P3)\n",
    "print(P)"
   ]
  },
  {
   "cell_type": "code",
   "execution_count": 8,
   "metadata": {},
   "outputs": [
    {
     "name": "stdout",
     "output_type": "stream",
     "text": [
      "0.12626262626262627\n",
      "0.2272727272727273\n",
      "0.015151515151515154\n",
      "0.36868686868686873\n"
     ]
    }
   ],
   "source": [
    "# способ 2\n",
    "#W B B B\n",
    "#B W B B\n",
    "#B B W B\n",
    "#B B B W\n",
    "# получается 4 варианта из второго ящика\n",
    "P1 = (5/8)*(4/7)*(5/12)*(7/11)*(6/10)*(5/9)*4\n",
    "\n",
    "#B B W W\n",
    "#B W B W\n",
    "#B W W B\n",
    "#W B W B\n",
    "#W W B B\n",
    "# получается 5, но на самом деле нужно 6 - непонятно откуда\n",
    "P2 = ((5/8)*(3/7)+(3/8)*(5/7))*(5/12)*(4/11)*(7/10)*(6/9)*6\n",
    "\n",
    "# как в первом случае - 4\n",
    "P3 = (3/8)*(2/7)*(5/12)*(4/11)*(3/10)*7/9*4\n",
    "P = P1 + P2 + P3\n",
    "print(P1)\n",
    "print(P2)\n",
    "print(P3)\n",
    "print(P)"
   ]
  },
  {
   "cell_type": "markdown",
   "metadata": {},
   "source": [
    "$$P(B\\:|\\:A) = \\frac{P(B) \\cdot P(A\\:|\\:B)}{P(A)}$$"
   ]
  },
  {
   "cell_type": "markdown",
   "metadata": {},
   "source": [
    "### Задача 3"
   ]
  },
  {
   "cell_type": "markdown",
   "metadata": {},
   "source": [
    "На соревновании по биатлону один из трех спортсменов стреляет и попадает в мишень. Вероятность попадания для первого спортсмена равна 0.9, для второго — 0.8, для третьего — 0.6. Найти вероятность того, что выстрел произведен: a). первым спортсменом б). вторым спортсменом в). третьим спортсменом."
   ]
  },
  {
   "cell_type": "markdown",
   "metadata": {},
   "source": [
    "**событие А** - попадание в мишень"
   ]
  },
  {
   "cell_type": "code",
   "execution_count": 9,
   "metadata": {},
   "outputs": [
    {
     "data": {
      "text/plain": [
       "0.7666666666666666"
      ]
     },
     "execution_count": 9,
     "metadata": {},
     "output_type": "execute_result"
    }
   ],
   "source": [
    "PA = 1/3*0.9 + 1/3*0.8 + 1/3*0.6\n",
    "PA"
   ]
  },
  {
   "cell_type": "markdown",
   "metadata": {},
   "source": [
    "#### 3.1 первым спортсменом"
   ]
  },
  {
   "cell_type": "code",
   "execution_count": 10,
   "metadata": {},
   "outputs": [
    {
     "data": {
      "text/plain": [
       "0.391304347826087"
      ]
     },
     "execution_count": 10,
     "metadata": {},
     "output_type": "execute_result"
    }
   ],
   "source": [
    "PB1 = 1/3*0.9/PA\n",
    "PB1"
   ]
  },
  {
   "cell_type": "markdown",
   "metadata": {},
   "source": [
    "#### 3.2 вторым спортсменом"
   ]
  },
  {
   "cell_type": "code",
   "execution_count": 11,
   "metadata": {},
   "outputs": [
    {
     "data": {
      "text/plain": [
       "0.3478260869565218"
      ]
     },
     "execution_count": 11,
     "metadata": {},
     "output_type": "execute_result"
    }
   ],
   "source": [
    "PB2 = 1/3*0.8/PA\n",
    "PB2"
   ]
  },
  {
   "cell_type": "markdown",
   "metadata": {},
   "source": [
    "#### 3.3 третьим спортсменом"
   ]
  },
  {
   "cell_type": "code",
   "execution_count": 12,
   "metadata": {},
   "outputs": [
    {
     "data": {
      "text/plain": [
       "0.2608695652173913"
      ]
     },
     "execution_count": 12,
     "metadata": {},
     "output_type": "execute_result"
    }
   ],
   "source": [
    "PB3 = 1/3*0.6/PA\n",
    "PB3"
   ]
  },
  {
   "cell_type": "markdown",
   "metadata": {},
   "source": [
    "### Задача 4"
   ]
  },
  {
   "cell_type": "markdown",
   "metadata": {},
   "source": [
    "В университет на факультеты A и B поступило равное количество студентов, а на факультет C студентов поступило столько же, сколько на A и B вместе. Вероятность того, что студент факультета A сдаст первую сессию, равна 0.8. Для студента факультета B эта вероятность равна 0.7, а для студента факультета C - 0.9. Студент сдал первую сессию. Какова вероятность, что он учится: a). на факультете A б). на факультете B в). на факультете C?"
   ]
  },
  {
   "cell_type": "markdown",
   "metadata": {},
   "source": [
    "событие А - сессия сдана\n",
    "* В1 - факультет А\n",
    "* В2 - факультет В\n",
    "* В3 - факультет С"
   ]
  },
  {
   "cell_type": "code",
   "execution_count": 13,
   "metadata": {},
   "outputs": [
    {
     "data": {
      "text/plain": [
       "0.825"
      ]
     },
     "execution_count": 13,
     "metadata": {},
     "output_type": "execute_result"
    }
   ],
   "source": [
    "PA = 1/4*0.8 + 1/4*0.7 + 1/2*0.9\n",
    "PA"
   ]
  },
  {
   "cell_type": "markdown",
   "metadata": {},
   "source": [
    "#### с факультета A "
   ]
  },
  {
   "cell_type": "code",
   "execution_count": 14,
   "metadata": {},
   "outputs": [
    {
     "data": {
      "text/plain": [
       "0.24242424242424246"
      ]
     },
     "execution_count": 14,
     "metadata": {},
     "output_type": "execute_result"
    }
   ],
   "source": [
    "PB1 = 1/4*0.8/PA\n",
    "PB1"
   ]
  },
  {
   "cell_type": "markdown",
   "metadata": {},
   "source": [
    "#### с факультета B "
   ]
  },
  {
   "cell_type": "code",
   "execution_count": 15,
   "metadata": {},
   "outputs": [
    {
     "data": {
      "text/plain": [
       "0.21212121212121213"
      ]
     },
     "execution_count": 15,
     "metadata": {},
     "output_type": "execute_result"
    }
   ],
   "source": [
    "PB2 = 1/4*0.7/PA\n",
    "PB2"
   ]
  },
  {
   "cell_type": "markdown",
   "metadata": {},
   "source": [
    "#### с факультета C"
   ]
  },
  {
   "cell_type": "code",
   "execution_count": 16,
   "metadata": {},
   "outputs": [
    {
     "data": {
      "text/plain": [
       "0.5454545454545455"
      ]
     },
     "execution_count": 16,
     "metadata": {},
     "output_type": "execute_result"
    }
   ],
   "source": [
    "PB3 = 1/2*0.9/PA\n",
    "PB3"
   ]
  },
  {
   "cell_type": "markdown",
   "metadata": {},
   "source": [
    "### Задача 5"
   ]
  },
  {
   "cell_type": "markdown",
   "metadata": {},
   "source": [
    "Устройство состоит из трех деталей. Для первой детали вероятность выйти из строя в первый месяц равна 0.1, для второй - 0.2, для третьей - 0.25. Какова вероятность того, что в первый месяц выйдут из строя: а). все детали б). только две детали в). хотя бы одна деталь г). от одной до двух деталей?"
   ]
  },
  {
   "cell_type": "code",
   "execution_count": 17,
   "metadata": {},
   "outputs": [],
   "source": [
    "p1 = 0.1\n",
    "p2 = 0.2\n",
    "p3 = 0.25"
   ]
  },
  {
   "cell_type": "markdown",
   "metadata": {},
   "source": [
    "#### а). все детали "
   ]
  },
  {
   "cell_type": "code",
   "execution_count": 18,
   "metadata": {},
   "outputs": [
    {
     "data": {
      "text/plain": [
       "0.005000000000000001"
      ]
     },
     "execution_count": 18,
     "metadata": {},
     "output_type": "execute_result"
    }
   ],
   "source": [
    "p = p1*p2*p3\n",
    "p"
   ]
  },
  {
   "cell_type": "markdown",
   "metadata": {},
   "source": [
    "#### б). только две детали "
   ]
  },
  {
   "cell_type": "markdown",
   "metadata": {},
   "source": [
    "несколько вариантов - 1 и 2, 1 и 3, 2 и 3. Найдем и сложим их"
   ]
  },
  {
   "cell_type": "code",
   "execution_count": 19,
   "metadata": {},
   "outputs": [
    {
     "data": {
      "text/plain": [
       "0.08000000000000002"
      ]
     },
     "execution_count": 19,
     "metadata": {},
     "output_type": "execute_result"
    }
   ],
   "source": [
    "p = p1*p2*(1 - p3) + p1*p3*(1 - p2) + (1 - p1)*p2*p3\n",
    "p"
   ]
  },
  {
   "cell_type": "markdown",
   "metadata": {},
   "source": [
    "#### в). хотя бы одна деталь "
   ]
  },
  {
   "cell_type": "code",
   "execution_count": 20,
   "metadata": {},
   "outputs": [
    {
     "data": {
      "text/plain": [
       "0.45999999999999996"
      ]
     },
     "execution_count": 20,
     "metadata": {},
     "output_type": "execute_result"
    }
   ],
   "source": [
    "# 1 - ни одной\n",
    "p = 1 - (1 - p1)*(1 - p2)*(1 - p3)\n",
    "p"
   ]
  },
  {
   "cell_type": "markdown",
   "metadata": {},
   "source": [
    "#### г). от одной до двух деталей?"
   ]
  },
  {
   "cell_type": "code",
   "execution_count": 21,
   "metadata": {},
   "outputs": [
    {
     "data": {
      "text/plain": [
       "0.45499999999999996"
      ]
     },
     "execution_count": 21,
     "metadata": {},
     "output_type": "execute_result"
    }
   ],
   "source": [
    "# 1 - ни одной - все\n",
    "p = 1 - (1 - p1)*(1 - p2)*(1 - p3) - p1*p2*p3\n",
    "p"
   ]
  }
 ],
 "metadata": {
  "kernelspec": {
   "display_name": "Python 3",
   "language": "python",
   "name": "python3"
  },
  "language_info": {
   "codemirror_mode": {
    "name": "ipython",
    "version": 3
   },
   "file_extension": ".py",
   "mimetype": "text/x-python",
   "name": "python",
   "nbconvert_exporter": "python",
   "pygments_lexer": "ipython3",
   "version": "3.7.3"
  }
 },
 "nbformat": 4,
 "nbformat_minor": 2
}
